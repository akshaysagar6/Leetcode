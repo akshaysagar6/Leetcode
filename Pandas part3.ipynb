{
 "cells": [
  {
   "cell_type": "code",
   "execution_count": 1,
   "id": "a2b0c7fb",
   "metadata": {},
   "outputs": [],
   "source": [
    "import pandas as pd\n",
    "from typing import List"
   ]
  },
  {
   "cell_type": "markdown",
   "id": "dee4c793",
   "metadata": {},
   "source": [
    "# A country is big if:\n",
    "\n",
    "it has an area of at least three million (i.e., 3000000 km2), or\n",
    "it has a population of at least twenty-five million (i.e., 25000000).\n",
    "Write a solution to find the name, population, and area of the big countries.\n",
    "\n",
    "Return the result table in any order."
   ]
  },
  {
   "cell_type": "code",
   "execution_count": 2,
   "id": "2e6c5bbf",
   "metadata": {},
   "outputs": [],
   "source": [
    "data = [\n",
    "    {\"name\": \"Afghanistan\", \"continent\": \"Asia\", \"area\": 652230, \"population\": 25500100, \"gdp\": 20343000000},\n",
    "    {\"name\": \"Albania\", \"continent\": \"Europe\", \"area\": 28748, \"population\": 2831741, \"gdp\": 12960000000},\n",
    "    {\"name\": \"Algeria\", \"continent\": \"Africa\", \"area\": 2381741, \"population\": 37100000, \"gdp\": 188681000000},\n",
    "    {\"name\": \"Andorra\", \"continent\": \"Europe\", \"area\": 468, \"population\": 78115, \"gdp\": 3712000000},\n",
    "    {\"name\": \"Angola\", \"continent\": \"Africa\", \"area\": 1246700, \"population\": 20609294, \"gdp\": 100990000000},\n",
    "]\n",
    "df = pd.DataFrame(data)"
   ]
  },
  {
   "cell_type": "code",
   "execution_count": 3,
   "id": "49896342",
   "metadata": {},
   "outputs": [
    {
     "data": {
      "text/html": [
       "<div>\n",
       "<style scoped>\n",
       "    .dataframe tbody tr th:only-of-type {\n",
       "        vertical-align: middle;\n",
       "    }\n",
       "\n",
       "    .dataframe tbody tr th {\n",
       "        vertical-align: top;\n",
       "    }\n",
       "\n",
       "    .dataframe thead th {\n",
       "        text-align: right;\n",
       "    }\n",
       "</style>\n",
       "<table border=\"1\" class=\"dataframe\">\n",
       "  <thead>\n",
       "    <tr style=\"text-align: right;\">\n",
       "      <th></th>\n",
       "      <th>name</th>\n",
       "      <th>continent</th>\n",
       "      <th>area</th>\n",
       "      <th>population</th>\n",
       "      <th>gdp</th>\n",
       "    </tr>\n",
       "  </thead>\n",
       "  <tbody>\n",
       "    <tr>\n",
       "      <th>0</th>\n",
       "      <td>Afghanistan</td>\n",
       "      <td>Asia</td>\n",
       "      <td>652230</td>\n",
       "      <td>25500100</td>\n",
       "      <td>20343000000</td>\n",
       "    </tr>\n",
       "    <tr>\n",
       "      <th>1</th>\n",
       "      <td>Albania</td>\n",
       "      <td>Europe</td>\n",
       "      <td>28748</td>\n",
       "      <td>2831741</td>\n",
       "      <td>12960000000</td>\n",
       "    </tr>\n",
       "    <tr>\n",
       "      <th>2</th>\n",
       "      <td>Algeria</td>\n",
       "      <td>Africa</td>\n",
       "      <td>2381741</td>\n",
       "      <td>37100000</td>\n",
       "      <td>188681000000</td>\n",
       "    </tr>\n",
       "    <tr>\n",
       "      <th>3</th>\n",
       "      <td>Andorra</td>\n",
       "      <td>Europe</td>\n",
       "      <td>468</td>\n",
       "      <td>78115</td>\n",
       "      <td>3712000000</td>\n",
       "    </tr>\n",
       "    <tr>\n",
       "      <th>4</th>\n",
       "      <td>Angola</td>\n",
       "      <td>Africa</td>\n",
       "      <td>1246700</td>\n",
       "      <td>20609294</td>\n",
       "      <td>100990000000</td>\n",
       "    </tr>\n",
       "  </tbody>\n",
       "</table>\n",
       "</div>"
      ],
      "text/plain": [
       "          name continent     area  population           gdp\n",
       "0  Afghanistan      Asia   652230    25500100   20343000000\n",
       "1      Albania    Europe    28748     2831741   12960000000\n",
       "2      Algeria    Africa  2381741    37100000  188681000000\n",
       "3      Andorra    Europe      468       78115    3712000000\n",
       "4       Angola    Africa  1246700    20609294  100990000000"
      ]
     },
     "execution_count": 3,
     "metadata": {},
     "output_type": "execute_result"
    }
   ],
   "source": [
    "df"
   ]
  },
  {
   "cell_type": "code",
   "execution_count": 4,
   "id": "5d7bca33",
   "metadata": {},
   "outputs": [],
   "source": [
    "def big_countries(world: pd.DataFrame) -> pd.DataFrame:\n",
    "   cuntry=world[(world['area']>=3000000) | (world['population']>=25000000)]\n",
    "   return(cuntry[['name','population','area']])"
   ]
  },
  {
   "cell_type": "code",
   "execution_count": 5,
   "id": "89a318aa",
   "metadata": {},
   "outputs": [
    {
     "data": {
      "text/html": [
       "<div>\n",
       "<style scoped>\n",
       "    .dataframe tbody tr th:only-of-type {\n",
       "        vertical-align: middle;\n",
       "    }\n",
       "\n",
       "    .dataframe tbody tr th {\n",
       "        vertical-align: top;\n",
       "    }\n",
       "\n",
       "    .dataframe thead th {\n",
       "        text-align: right;\n",
       "    }\n",
       "</style>\n",
       "<table border=\"1\" class=\"dataframe\">\n",
       "  <thead>\n",
       "    <tr style=\"text-align: right;\">\n",
       "      <th></th>\n",
       "      <th>name</th>\n",
       "      <th>population</th>\n",
       "      <th>area</th>\n",
       "    </tr>\n",
       "  </thead>\n",
       "  <tbody>\n",
       "    <tr>\n",
       "      <th>0</th>\n",
       "      <td>Afghanistan</td>\n",
       "      <td>25500100</td>\n",
       "      <td>652230</td>\n",
       "    </tr>\n",
       "    <tr>\n",
       "      <th>2</th>\n",
       "      <td>Algeria</td>\n",
       "      <td>37100000</td>\n",
       "      <td>2381741</td>\n",
       "    </tr>\n",
       "  </tbody>\n",
       "</table>\n",
       "</div>"
      ],
      "text/plain": [
       "          name  population     area\n",
       "0  Afghanistan    25500100   652230\n",
       "2      Algeria    37100000  2381741"
      ]
     },
     "execution_count": 5,
     "metadata": {},
     "output_type": "execute_result"
    }
   ],
   "source": [
    "big_countries(df)"
   ]
  },
  {
   "cell_type": "markdown",
   "id": "206b0337",
   "metadata": {},
   "source": [
    "# Write a solution to find the ids of products that are both low fat and recyclable.\n",
    "\n",
    "Return the result table in any order.\n"
   ]
  },
  {
   "cell_type": "code",
   "execution_count": 6,
   "id": "fe19d1e8",
   "metadata": {},
   "outputs": [],
   "source": [
    "data = [\n",
    "    {\"product_id\": 0, \"low_fats\": \"Y\", \"recyclable\": \"N\"},\n",
    "    {\"product_id\": 1, \"low_fats\": \"Y\", \"recyclable\": \"Y\"},\n",
    "    {\"product_id\": 2, \"low_fats\": \"N\", \"recyclable\": \"Y\"},\n",
    "    {\"product_id\": 3, \"low_fats\": \"Y\", \"recyclable\": \"Y\"},\n",
    "    {\"product_id\": 4, \"low_fats\": \"N\", \"recyclable\": \"N\"},\n",
    "]\n",
    "\n",
    "df = pd.DataFrame(data)"
   ]
  },
  {
   "cell_type": "code",
   "execution_count": 7,
   "id": "e690baff",
   "metadata": {},
   "outputs": [],
   "source": [
    "def find_products(products: pd.DataFrame) -> pd.DataFrame:\n",
    "    c=products[(products['low_fats']=='Y') & (products['recyclable']=='Y')]\n",
    "    return(c[['product_id']])"
   ]
  },
  {
   "cell_type": "code",
   "execution_count": 8,
   "id": "a5a4b47d",
   "metadata": {},
   "outputs": [
    {
     "data": {
      "text/html": [
       "<div>\n",
       "<style scoped>\n",
       "    .dataframe tbody tr th:only-of-type {\n",
       "        vertical-align: middle;\n",
       "    }\n",
       "\n",
       "    .dataframe tbody tr th {\n",
       "        vertical-align: top;\n",
       "    }\n",
       "\n",
       "    .dataframe thead th {\n",
       "        text-align: right;\n",
       "    }\n",
       "</style>\n",
       "<table border=\"1\" class=\"dataframe\">\n",
       "  <thead>\n",
       "    <tr style=\"text-align: right;\">\n",
       "      <th></th>\n",
       "      <th>product_id</th>\n",
       "    </tr>\n",
       "  </thead>\n",
       "  <tbody>\n",
       "    <tr>\n",
       "      <th>1</th>\n",
       "      <td>1</td>\n",
       "    </tr>\n",
       "    <tr>\n",
       "      <th>3</th>\n",
       "      <td>3</td>\n",
       "    </tr>\n",
       "  </tbody>\n",
       "</table>\n",
       "</div>"
      ],
      "text/plain": [
       "   product_id\n",
       "1           1\n",
       "3           3"
      ]
     },
     "execution_count": 8,
     "metadata": {},
     "output_type": "execute_result"
    }
   ],
   "source": [
    "find_products(df)"
   ]
  },
  {
   "cell_type": "markdown",
   "id": "f0989113",
   "metadata": {},
   "source": [
    "# Write a solution to find all customers who never order anything.\n",
    "\n",
    "Return the result table in any order.\n"
   ]
  },
  {
   "cell_type": "code",
   "execution_count": 9,
   "id": "5a9ff2bf",
   "metadata": {},
   "outputs": [],
   "source": [
    "customers_data = {\n",
    "    \"id\": [1, 2, 3, 4],\n",
    "    \"name\": [\"Joe\", \"Henry\", \"Sam\", \"Max\"]\n",
    "}\n",
    "\n",
    "orders_data = {\n",
    "    \"id\": [1, 2],\n",
    "    \"customerId\": [3, 1]\n",
    "}\n",
    "\n",
    "customers_df = pd.DataFrame(customers_data)\n",
    "orders_df = pd.DataFrame(orders_data)"
   ]
  },
  {
   "cell_type": "code",
   "execution_count": 10,
   "id": "808cba90",
   "metadata": {},
   "outputs": [],
   "source": [
    "def find_customers(customers: pd.DataFrame, orders: pd.DataFrame) -> pd.DataFrame:\n",
    "    c=pd.DataFrame(customers[~(customers['id'].isin(orders['customerId']))]['name'])   \n",
    "    return(c.rename(columns={'name':'Customers'}))"
   ]
  },
  {
   "cell_type": "code",
   "execution_count": 11,
   "id": "93fd4d3d",
   "metadata": {},
   "outputs": [
    {
     "data": {
      "text/html": [
       "<div>\n",
       "<style scoped>\n",
       "    .dataframe tbody tr th:only-of-type {\n",
       "        vertical-align: middle;\n",
       "    }\n",
       "\n",
       "    .dataframe tbody tr th {\n",
       "        vertical-align: top;\n",
       "    }\n",
       "\n",
       "    .dataframe thead th {\n",
       "        text-align: right;\n",
       "    }\n",
       "</style>\n",
       "<table border=\"1\" class=\"dataframe\">\n",
       "  <thead>\n",
       "    <tr style=\"text-align: right;\">\n",
       "      <th></th>\n",
       "      <th>Customers</th>\n",
       "    </tr>\n",
       "  </thead>\n",
       "  <tbody>\n",
       "    <tr>\n",
       "      <th>1</th>\n",
       "      <td>Henry</td>\n",
       "    </tr>\n",
       "    <tr>\n",
       "      <th>3</th>\n",
       "      <td>Max</td>\n",
       "    </tr>\n",
       "  </tbody>\n",
       "</table>\n",
       "</div>"
      ],
      "text/plain": [
       "  Customers\n",
       "1     Henry\n",
       "3       Max"
      ]
     },
     "execution_count": 11,
     "metadata": {},
     "output_type": "execute_result"
    }
   ],
   "source": [
    "find_customers(customers_df,orders_df)"
   ]
  },
  {
   "cell_type": "markdown",
   "id": "c7142cb7",
   "metadata": {},
   "source": [
    "# Write a solution to find all the authors that viewed at least one of their own articles.\n",
    "\n",
    "Return the result table sorted by id in ascending order.\n"
   ]
  },
  {
   "cell_type": "code",
   "execution_count": 12,
   "id": "ce1d8545",
   "metadata": {},
   "outputs": [],
   "source": [
    "data = [\n",
    "    {\"article_id\": 1, \"author_id\": 3, \"viewer_id\": 5, \"view_date\": \"2019-08-01\"},\n",
    "    {\"article_id\": 1, \"author_id\": 3, \"viewer_id\": 6, \"view_date\": \"2019-08-02\"},\n",
    "    {\"article_id\": 2, \"author_id\": 7, \"viewer_id\": 7, \"view_date\": \"2019-08-01\"},\n",
    "    {\"article_id\": 2, \"author_id\": 7, \"viewer_id\": 6, \"view_date\": \"2019-08-02\"},\n",
    "    {\"article_id\": 4, \"author_id\": 7, \"viewer_id\": 1, \"view_date\": \"2019-07-22\"},\n",
    "    {\"article_id\": 3, \"author_id\": 4, \"viewer_id\": 4, \"view_date\": \"2019-07-21\"},\n",
    "    {\"article_id\": 3, \"author_id\": 4, \"viewer_id\": 4, \"view_date\": \"2019-07-21\"},\n",
    "]\n",
    "\n",
    "df = pd.DataFrame(data)"
   ]
  },
  {
   "cell_type": "code",
   "execution_count": 13,
   "id": "2399a01b",
   "metadata": {},
   "outputs": [],
   "source": [
    "def article_views(views: pd.DataFrame) -> pd.DataFrame:\n",
    "    c=views[views['author_id']==views['viewer_id']][['author_id']]\n",
    "    c1=pd.DataFrame(c['author_id'].unique(),columns=['id']).sort_values(by='id')\n",
    "    return(c1)\n"
   ]
  },
  {
   "cell_type": "code",
   "execution_count": 14,
   "id": "f02f54a2",
   "metadata": {},
   "outputs": [
    {
     "data": {
      "text/html": [
       "<div>\n",
       "<style scoped>\n",
       "    .dataframe tbody tr th:only-of-type {\n",
       "        vertical-align: middle;\n",
       "    }\n",
       "\n",
       "    .dataframe tbody tr th {\n",
       "        vertical-align: top;\n",
       "    }\n",
       "\n",
       "    .dataframe thead th {\n",
       "        text-align: right;\n",
       "    }\n",
       "</style>\n",
       "<table border=\"1\" class=\"dataframe\">\n",
       "  <thead>\n",
       "    <tr style=\"text-align: right;\">\n",
       "      <th></th>\n",
       "      <th>id</th>\n",
       "    </tr>\n",
       "  </thead>\n",
       "  <tbody>\n",
       "    <tr>\n",
       "      <th>1</th>\n",
       "      <td>4</td>\n",
       "    </tr>\n",
       "    <tr>\n",
       "      <th>0</th>\n",
       "      <td>7</td>\n",
       "    </tr>\n",
       "  </tbody>\n",
       "</table>\n",
       "</div>"
      ],
      "text/plain": [
       "   id\n",
       "1   4\n",
       "0   7"
      ]
     },
     "execution_count": 14,
     "metadata": {},
     "output_type": "execute_result"
    }
   ],
   "source": [
    "article_views(df)"
   ]
  },
  {
   "cell_type": "code",
   "execution_count": null,
   "id": "9fb158bf",
   "metadata": {},
   "outputs": [],
   "source": []
  }
 ],
 "metadata": {
  "kernelspec": {
   "display_name": "Python 3 (ipykernel)",
   "language": "python",
   "name": "python3"
  },
  "language_info": {
   "codemirror_mode": {
    "name": "ipython",
    "version": 3
   },
   "file_extension": ".py",
   "mimetype": "text/x-python",
   "name": "python",
   "nbconvert_exporter": "python",
   "pygments_lexer": "ipython3",
   "version": "3.11.4"
  }
 },
 "nbformat": 4,
 "nbformat_minor": 5
}
