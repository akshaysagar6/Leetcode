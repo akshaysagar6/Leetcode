{
 "cells": [
  {
   "cell_type": "code",
   "execution_count": 1,
   "id": "e58d154e",
   "metadata": {},
   "outputs": [],
   "source": [
    "import pandas as pd\n",
    "from typing import List"
   ]
  },
  {
   "cell_type": "markdown",
   "id": "dfc8716a",
   "metadata": {},
   "source": [
    "# 1.Write a solution to create a DataFrame from a 2D list called student_data. This 2D list contains the IDs and ages of some students.\n",
    "\n",
    "The DataFrame should have two columns, student_id and age, and be in the same order as the original 2D list."
   ]
  },
  {
   "cell_type": "code",
   "execution_count": 2,
   "id": "d1438a20",
   "metadata": {},
   "outputs": [],
   "source": [
    "def createDataframe(student_data: List[List[int]]) -> pd.DataFrame:\n",
    "    df=pd.DataFrame(student_data, columns=['student_id', 'age'])\n",
    "    return df"
   ]
  },
  {
   "cell_type": "code",
   "execution_count": 3,
   "id": "e8ad7590",
   "metadata": {},
   "outputs": [
    {
     "data": {
      "text/html": [
       "<div>\n",
       "<style scoped>\n",
       "    .dataframe tbody tr th:only-of-type {\n",
       "        vertical-align: middle;\n",
       "    }\n",
       "\n",
       "    .dataframe tbody tr th {\n",
       "        vertical-align: top;\n",
       "    }\n",
       "\n",
       "    .dataframe thead th {\n",
       "        text-align: right;\n",
       "    }\n",
       "</style>\n",
       "<table border=\"1\" class=\"dataframe\">\n",
       "  <thead>\n",
       "    <tr style=\"text-align: right;\">\n",
       "      <th></th>\n",
       "      <th>student_id</th>\n",
       "      <th>age</th>\n",
       "    </tr>\n",
       "  </thead>\n",
       "  <tbody>\n",
       "    <tr>\n",
       "      <th>0</th>\n",
       "      <td>1</td>\n",
       "      <td>15</td>\n",
       "    </tr>\n",
       "    <tr>\n",
       "      <th>1</th>\n",
       "      <td>2</td>\n",
       "      <td>11</td>\n",
       "    </tr>\n",
       "    <tr>\n",
       "      <th>2</th>\n",
       "      <td>3</td>\n",
       "      <td>11</td>\n",
       "    </tr>\n",
       "    <tr>\n",
       "      <th>3</th>\n",
       "      <td>4</td>\n",
       "      <td>20</td>\n",
       "    </tr>\n",
       "  </tbody>\n",
       "</table>\n",
       "</div>"
      ],
      "text/plain": [
       "   student_id  age\n",
       "0           1   15\n",
       "1           2   11\n",
       "2           3   11\n",
       "3           4   20"
      ]
     },
     "execution_count": 3,
     "metadata": {},
     "output_type": "execute_result"
    }
   ],
   "source": [
    "student_data=[\n",
    "  [1, 15],\n",
    "  [2, 11],\n",
    "  [3, 11],\n",
    "  [4, 20]\n",
    "]\n",
    "student=createDataframe(student_data)\n",
    "student"
   ]
  },
  {
   "cell_type": "markdown",
   "id": "13000c19",
   "metadata": {},
   "source": [
    "# 2. Write a solution to calculate and display the number of rows and columns of players.\n",
    "\n",
    "Return the result as an array:\n",
    "\n",
    "[number of rows, number of columns]"
   ]
  },
  {
   "cell_type": "code",
   "execution_count": 4,
   "id": "2a6d386e",
   "metadata": {},
   "outputs": [],
   "source": [
    "def getDataframeSize(student: pd.DataFrame) -> List[int]:\n",
    "    return list(student.shape)"
   ]
  },
  {
   "cell_type": "code",
   "execution_count": 5,
   "id": "4305305d",
   "metadata": {},
   "outputs": [
    {
     "data": {
      "text/plain": [
       "[4, 2]"
      ]
     },
     "execution_count": 5,
     "metadata": {},
     "output_type": "execute_result"
    }
   ],
   "source": [
    "getDataframeSize(student)"
   ]
  },
  {
   "cell_type": "markdown",
   "id": "aba633cd",
   "metadata": {},
   "source": [
    "# 3. Write a solution to display the first 3 rows of this DataFrame."
   ]
  },
  {
   "cell_type": "code",
   "execution_count": 6,
   "id": "627e6949",
   "metadata": {},
   "outputs": [],
   "source": [
    "data = [\n",
    "    [3, \"Bob\", \"Operations\", 48675],\n",
    "    [90, \"Alice\", \"Sales\", 11096],\n",
    "    [9, \"Tatiana\", \"Engineering\", 33805],\n",
    "    [60, \"Annabelle\", \"InformationTechnology\", 37678],\n",
    "    [49, \"Jonathan\", \"HumanResources\", 23793],\n",
    "    [43, \"Khaled\", \"Administration\", 40454]\n",
    "]\n",
    "\n",
    "df = pd.DataFrame(data, columns=[\"employee_id\", \"name\", \"department\", \"salary\"])"
   ]
  },
  {
   "cell_type": "code",
   "execution_count": 7,
   "id": "f8d1ad63",
   "metadata": {},
   "outputs": [
    {
     "data": {
      "text/html": [
       "<div>\n",
       "<style scoped>\n",
       "    .dataframe tbody tr th:only-of-type {\n",
       "        vertical-align: middle;\n",
       "    }\n",
       "\n",
       "    .dataframe tbody tr th {\n",
       "        vertical-align: top;\n",
       "    }\n",
       "\n",
       "    .dataframe thead th {\n",
       "        text-align: right;\n",
       "    }\n",
       "</style>\n",
       "<table border=\"1\" class=\"dataframe\">\n",
       "  <thead>\n",
       "    <tr style=\"text-align: right;\">\n",
       "      <th></th>\n",
       "      <th>employee_id</th>\n",
       "      <th>name</th>\n",
       "      <th>department</th>\n",
       "      <th>salary</th>\n",
       "    </tr>\n",
       "  </thead>\n",
       "  <tbody>\n",
       "    <tr>\n",
       "      <th>0</th>\n",
       "      <td>3</td>\n",
       "      <td>Bob</td>\n",
       "      <td>Operations</td>\n",
       "      <td>48675</td>\n",
       "    </tr>\n",
       "    <tr>\n",
       "      <th>1</th>\n",
       "      <td>90</td>\n",
       "      <td>Alice</td>\n",
       "      <td>Sales</td>\n",
       "      <td>11096</td>\n",
       "    </tr>\n",
       "    <tr>\n",
       "      <th>2</th>\n",
       "      <td>9</td>\n",
       "      <td>Tatiana</td>\n",
       "      <td>Engineering</td>\n",
       "      <td>33805</td>\n",
       "    </tr>\n",
       "  </tbody>\n",
       "</table>\n",
       "</div>"
      ],
      "text/plain": [
       "   employee_id     name   department  salary\n",
       "0            3      Bob   Operations   48675\n",
       "1           90    Alice        Sales   11096\n",
       "2            9  Tatiana  Engineering   33805"
      ]
     },
     "execution_count": 7,
     "metadata": {},
     "output_type": "execute_result"
    }
   ],
   "source": [
    "def selectFirstRows(employees: pd.DataFrame) -> pd.DataFrame:\n",
    "    return employees.head(3)\n",
    "selectFirstRows(df)"
   ]
  },
  {
   "cell_type": "markdown",
   "id": "ce136eb1",
   "metadata": {},
   "source": [
    "# 4. Write a solution to select the name and age of the student with student_id = 101.\n"
   ]
  },
  {
   "cell_type": "code",
   "execution_count": 8,
   "id": "4de76af7",
   "metadata": {},
   "outputs": [],
   "source": [
    "studict={'student_id':[101,53,128,3],'name':['Ulysses','William','Henry','Henry'],'age':[13,10,6,11]}\n",
    "student_df=pd.DataFrame(studict)"
   ]
  },
  {
   "cell_type": "code",
   "execution_count": 9,
   "id": "e4081e62",
   "metadata": {},
   "outputs": [],
   "source": [
    "def selectData(students: pd.DataFrame) -> pd.DataFrame:\n",
    "    return(students[students['student_id']==101][['name','age']])"
   ]
  },
  {
   "cell_type": "code",
   "execution_count": 10,
   "id": "02023c55",
   "metadata": {},
   "outputs": [
    {
     "data": {
      "text/html": [
       "<div>\n",
       "<style scoped>\n",
       "    .dataframe tbody tr th:only-of-type {\n",
       "        vertical-align: middle;\n",
       "    }\n",
       "\n",
       "    .dataframe tbody tr th {\n",
       "        vertical-align: top;\n",
       "    }\n",
       "\n",
       "    .dataframe thead th {\n",
       "        text-align: right;\n",
       "    }\n",
       "</style>\n",
       "<table border=\"1\" class=\"dataframe\">\n",
       "  <thead>\n",
       "    <tr style=\"text-align: right;\">\n",
       "      <th></th>\n",
       "      <th>name</th>\n",
       "      <th>age</th>\n",
       "    </tr>\n",
       "  </thead>\n",
       "  <tbody>\n",
       "    <tr>\n",
       "      <th>0</th>\n",
       "      <td>Ulysses</td>\n",
       "      <td>13</td>\n",
       "    </tr>\n",
       "  </tbody>\n",
       "</table>\n",
       "</div>"
      ],
      "text/plain": [
       "      name  age\n",
       "0  Ulysses   13"
      ]
     },
     "execution_count": 10,
     "metadata": {},
     "output_type": "execute_result"
    }
   ],
   "source": [
    "selectData(student_df)"
   ]
  },
  {
   "cell_type": "markdown",
   "id": "edbb6980",
   "metadata": {},
   "source": [
    "# 5. A company plans to provide its employees with a bonus.\n",
    "\n",
    "Write a solution to create a new column name bonus that contains the doubled values of the salary column."
   ]
  },
  {
   "cell_type": "code",
   "execution_count": 11,
   "id": "0471dc6c",
   "metadata": {},
   "outputs": [
    {
     "data": {
      "text/html": [
       "<div>\n",
       "<style scoped>\n",
       "    .dataframe tbody tr th:only-of-type {\n",
       "        vertical-align: middle;\n",
       "    }\n",
       "\n",
       "    .dataframe tbody tr th {\n",
       "        vertical-align: top;\n",
       "    }\n",
       "\n",
       "    .dataframe thead th {\n",
       "        text-align: right;\n",
       "    }\n",
       "</style>\n",
       "<table border=\"1\" class=\"dataframe\">\n",
       "  <thead>\n",
       "    <tr style=\"text-align: right;\">\n",
       "      <th></th>\n",
       "      <th>name</th>\n",
       "      <th>salary</th>\n",
       "    </tr>\n",
       "  </thead>\n",
       "  <tbody>\n",
       "    <tr>\n",
       "      <th>0</th>\n",
       "      <td>Piper</td>\n",
       "      <td>4548</td>\n",
       "    </tr>\n",
       "    <tr>\n",
       "      <th>1</th>\n",
       "      <td>Grace</td>\n",
       "      <td>28150</td>\n",
       "    </tr>\n",
       "    <tr>\n",
       "      <th>2</th>\n",
       "      <td>Georgia</td>\n",
       "      <td>1103</td>\n",
       "    </tr>\n",
       "    <tr>\n",
       "      <th>3</th>\n",
       "      <td>Willow</td>\n",
       "      <td>6593</td>\n",
       "    </tr>\n",
       "    <tr>\n",
       "      <th>4</th>\n",
       "      <td>Finn</td>\n",
       "      <td>74576</td>\n",
       "    </tr>\n",
       "    <tr>\n",
       "      <th>5</th>\n",
       "      <td>Thomas</td>\n",
       "      <td>24433</td>\n",
       "    </tr>\n",
       "  </tbody>\n",
       "</table>\n",
       "</div>"
      ],
      "text/plain": [
       "      name  salary\n",
       "0    Piper    4548\n",
       "1    Grace   28150\n",
       "2  Georgia    1103\n",
       "3   Willow    6593\n",
       "4     Finn   74576\n",
       "5   Thomas   24433"
      ]
     },
     "execution_count": 11,
     "metadata": {},
     "output_type": "execute_result"
    }
   ],
   "source": [
    "names = pd.Series([\"Piper\", \"Grace\", \"Georgia\", \"Willow\", \"Finn\", \"Thomas\"])\n",
    "salaries = pd.Series([4548, 28150, 1103, 6593, 74576, 24433])\n",
    "\n",
    "employees = pd.DataFrame({\n",
    "    \"name\": names,\n",
    "    \"salary\": salaries\n",
    "})\n",
    "employees"
   ]
  },
  {
   "cell_type": "code",
   "execution_count": 12,
   "id": "d8c7ced0",
   "metadata": {},
   "outputs": [],
   "source": [
    "def createBonusColumn(employees: pd.DataFrame) -> pd.DataFrame:\n",
    "    employees['bonus']=2*employees['salary']\n",
    "    return(employees)"
   ]
  },
  {
   "cell_type": "code",
   "execution_count": 13,
   "id": "e17246bc",
   "metadata": {},
   "outputs": [
    {
     "data": {
      "text/html": [
       "<div>\n",
       "<style scoped>\n",
       "    .dataframe tbody tr th:only-of-type {\n",
       "        vertical-align: middle;\n",
       "    }\n",
       "\n",
       "    .dataframe tbody tr th {\n",
       "        vertical-align: top;\n",
       "    }\n",
       "\n",
       "    .dataframe thead th {\n",
       "        text-align: right;\n",
       "    }\n",
       "</style>\n",
       "<table border=\"1\" class=\"dataframe\">\n",
       "  <thead>\n",
       "    <tr style=\"text-align: right;\">\n",
       "      <th></th>\n",
       "      <th>name</th>\n",
       "      <th>salary</th>\n",
       "      <th>bonus</th>\n",
       "    </tr>\n",
       "  </thead>\n",
       "  <tbody>\n",
       "    <tr>\n",
       "      <th>0</th>\n",
       "      <td>Piper</td>\n",
       "      <td>4548</td>\n",
       "      <td>9096</td>\n",
       "    </tr>\n",
       "    <tr>\n",
       "      <th>1</th>\n",
       "      <td>Grace</td>\n",
       "      <td>28150</td>\n",
       "      <td>56300</td>\n",
       "    </tr>\n",
       "    <tr>\n",
       "      <th>2</th>\n",
       "      <td>Georgia</td>\n",
       "      <td>1103</td>\n",
       "      <td>2206</td>\n",
       "    </tr>\n",
       "    <tr>\n",
       "      <th>3</th>\n",
       "      <td>Willow</td>\n",
       "      <td>6593</td>\n",
       "      <td>13186</td>\n",
       "    </tr>\n",
       "    <tr>\n",
       "      <th>4</th>\n",
       "      <td>Finn</td>\n",
       "      <td>74576</td>\n",
       "      <td>149152</td>\n",
       "    </tr>\n",
       "    <tr>\n",
       "      <th>5</th>\n",
       "      <td>Thomas</td>\n",
       "      <td>24433</td>\n",
       "      <td>48866</td>\n",
       "    </tr>\n",
       "  </tbody>\n",
       "</table>\n",
       "</div>"
      ],
      "text/plain": [
       "      name  salary   bonus\n",
       "0    Piper    4548    9096\n",
       "1    Grace   28150   56300\n",
       "2  Georgia    1103    2206\n",
       "3   Willow    6593   13186\n",
       "4     Finn   74576  149152\n",
       "5   Thomas   24433   48866"
      ]
     },
     "execution_count": 13,
     "metadata": {},
     "output_type": "execute_result"
    }
   ],
   "source": [
    "createBonusColumn(employees)"
   ]
  },
  {
   "cell_type": "markdown",
   "id": "358b2160",
   "metadata": {},
   "source": [
    "# 6. There are some duplicate rows in the DataFrame based on the email column.\n",
    "\n",
    "Write a solution to remove these duplicate rows and keep only the first occurrence."
   ]
  },
  {
   "cell_type": "code",
   "execution_count": 14,
   "id": "e8d3ab9e",
   "metadata": {},
   "outputs": [
    {
     "data": {
      "text/html": [
       "<div>\n",
       "<style scoped>\n",
       "    .dataframe tbody tr th:only-of-type {\n",
       "        vertical-align: middle;\n",
       "    }\n",
       "\n",
       "    .dataframe tbody tr th {\n",
       "        vertical-align: top;\n",
       "    }\n",
       "\n",
       "    .dataframe thead th {\n",
       "        text-align: right;\n",
       "    }\n",
       "</style>\n",
       "<table border=\"1\" class=\"dataframe\">\n",
       "  <thead>\n",
       "    <tr style=\"text-align: right;\">\n",
       "      <th></th>\n",
       "      <th>customer_id</th>\n",
       "      <th>name</th>\n",
       "      <th>email</th>\n",
       "    </tr>\n",
       "  </thead>\n",
       "  <tbody>\n",
       "    <tr>\n",
       "      <th>0</th>\n",
       "      <td>1</td>\n",
       "      <td>Ella</td>\n",
       "      <td>emily@example.com</td>\n",
       "    </tr>\n",
       "    <tr>\n",
       "      <th>1</th>\n",
       "      <td>2</td>\n",
       "      <td>David</td>\n",
       "      <td>michael@example.com</td>\n",
       "    </tr>\n",
       "    <tr>\n",
       "      <th>2</th>\n",
       "      <td>3</td>\n",
       "      <td>Zachary</td>\n",
       "      <td>sarah@example.com</td>\n",
       "    </tr>\n",
       "    <tr>\n",
       "      <th>3</th>\n",
       "      <td>4</td>\n",
       "      <td>Alice</td>\n",
       "      <td>john@example.com</td>\n",
       "    </tr>\n",
       "    <tr>\n",
       "      <th>4</th>\n",
       "      <td>5</td>\n",
       "      <td>Finn</td>\n",
       "      <td>john@example.com</td>\n",
       "    </tr>\n",
       "    <tr>\n",
       "      <th>5</th>\n",
       "      <td>6</td>\n",
       "      <td>Violet</td>\n",
       "      <td>alice@example.com</td>\n",
       "    </tr>\n",
       "  </tbody>\n",
       "</table>\n",
       "</div>"
      ],
      "text/plain": [
       "   customer_id     name                email\n",
       "0            1     Ella    emily@example.com\n",
       "1            2    David  michael@example.com\n",
       "2            3  Zachary    sarah@example.com\n",
       "3            4    Alice     john@example.com\n",
       "4            5     Finn     john@example.com\n",
       "5            6   Violet    alice@example.com"
      ]
     },
     "execution_count": 14,
     "metadata": {},
     "output_type": "execute_result"
    }
   ],
   "source": [
    "data = [\n",
    "    {\"customer_id\": 1, \"name\": \"Ella\", \"email\": \"emily@example.com\"},\n",
    "    {\"customer_id\": 2, \"name\": \"David\", \"email\": \"michael@example.com\"},\n",
    "    {\"customer_id\": 3, \"name\": \"Zachary\", \"email\": \"sarah@example.com\"},\n",
    "    {\"customer_id\": 4, \"name\": \"Alice\", \"email\": \"john@example.com\"},\n",
    "    {\"customer_id\": 5, \"name\": \"Finn\", \"email\": \"john@example.com\"},\n",
    "    {\"customer_id\": 6, \"name\": \"Violet\", \"email\": \"alice@example.com\"}\n",
    "]\n",
    "\n",
    "df = pd.DataFrame(data)\n",
    "df"
   ]
  },
  {
   "cell_type": "code",
   "execution_count": 15,
   "id": "3b529c27",
   "metadata": {},
   "outputs": [],
   "source": [
    "def dropDuplicateEmails(customers: pd.DataFrame) -> pd.DataFrame:\n",
    "    return(customers.drop_duplicates(subset='email',keep='first'))"
   ]
  },
  {
   "cell_type": "code",
   "execution_count": 16,
   "id": "965b9350",
   "metadata": {},
   "outputs": [
    {
     "data": {
      "text/html": [
       "<div>\n",
       "<style scoped>\n",
       "    .dataframe tbody tr th:only-of-type {\n",
       "        vertical-align: middle;\n",
       "    }\n",
       "\n",
       "    .dataframe tbody tr th {\n",
       "        vertical-align: top;\n",
       "    }\n",
       "\n",
       "    .dataframe thead th {\n",
       "        text-align: right;\n",
       "    }\n",
       "</style>\n",
       "<table border=\"1\" class=\"dataframe\">\n",
       "  <thead>\n",
       "    <tr style=\"text-align: right;\">\n",
       "      <th></th>\n",
       "      <th>customer_id</th>\n",
       "      <th>name</th>\n",
       "      <th>email</th>\n",
       "    </tr>\n",
       "  </thead>\n",
       "  <tbody>\n",
       "    <tr>\n",
       "      <th>0</th>\n",
       "      <td>1</td>\n",
       "      <td>Ella</td>\n",
       "      <td>emily@example.com</td>\n",
       "    </tr>\n",
       "    <tr>\n",
       "      <th>1</th>\n",
       "      <td>2</td>\n",
       "      <td>David</td>\n",
       "      <td>michael@example.com</td>\n",
       "    </tr>\n",
       "    <tr>\n",
       "      <th>2</th>\n",
       "      <td>3</td>\n",
       "      <td>Zachary</td>\n",
       "      <td>sarah@example.com</td>\n",
       "    </tr>\n",
       "    <tr>\n",
       "      <th>3</th>\n",
       "      <td>4</td>\n",
       "      <td>Alice</td>\n",
       "      <td>john@example.com</td>\n",
       "    </tr>\n",
       "    <tr>\n",
       "      <th>5</th>\n",
       "      <td>6</td>\n",
       "      <td>Violet</td>\n",
       "      <td>alice@example.com</td>\n",
       "    </tr>\n",
       "  </tbody>\n",
       "</table>\n",
       "</div>"
      ],
      "text/plain": [
       "   customer_id     name                email\n",
       "0            1     Ella    emily@example.com\n",
       "1            2    David  michael@example.com\n",
       "2            3  Zachary    sarah@example.com\n",
       "3            4    Alice     john@example.com\n",
       "5            6   Violet    alice@example.com"
      ]
     },
     "execution_count": 16,
     "metadata": {},
     "output_type": "execute_result"
    }
   ],
   "source": [
    "dropDuplicateEmails(df)"
   ]
  },
  {
   "cell_type": "markdown",
   "id": "b7dc94cd",
   "metadata": {},
   "source": [
    "# 7. There are some rows having missing values in the name column.\n",
    "\n",
    "Write a solution to remove the rows with missing values."
   ]
  },
  {
   "cell_type": "code",
   "execution_count": 17,
   "id": "36761686",
   "metadata": {},
   "outputs": [
    {
     "name": "stdout",
     "output_type": "stream",
     "text": [
      "   student_id     name  age\n",
      "0          32    Piper    5\n",
      "1         217     None   19\n",
      "2         779  Georgia   20\n",
      "3         849   Willow   14\n"
     ]
    }
   ],
   "source": [
    "data = [\n",
    "    [32, \"Piper\", 5],\n",
    "    [217, None, 19],\n",
    "    [779, \"Georgia\", 20],\n",
    "    [849, \"Willow\", 14]\n",
    "]\n",
    "\n",
    "df = pd.DataFrame(data, columns=[\"student_id\", \"name\", \"age\"])\n",
    "print(df)"
   ]
  },
  {
   "cell_type": "code",
   "execution_count": 18,
   "id": "e107e8c7",
   "metadata": {},
   "outputs": [],
   "source": [
    "def dropMissingData(students: pd.DataFrame) -> pd.DataFrame:\n",
    "    return(students.dropna(subset='name'))"
   ]
  },
  {
   "cell_type": "code",
   "execution_count": 19,
   "id": "de0cc2d6",
   "metadata": {},
   "outputs": [
    {
     "data": {
      "text/html": [
       "<div>\n",
       "<style scoped>\n",
       "    .dataframe tbody tr th:only-of-type {\n",
       "        vertical-align: middle;\n",
       "    }\n",
       "\n",
       "    .dataframe tbody tr th {\n",
       "        vertical-align: top;\n",
       "    }\n",
       "\n",
       "    .dataframe thead th {\n",
       "        text-align: right;\n",
       "    }\n",
       "</style>\n",
       "<table border=\"1\" class=\"dataframe\">\n",
       "  <thead>\n",
       "    <tr style=\"text-align: right;\">\n",
       "      <th></th>\n",
       "      <th>student_id</th>\n",
       "      <th>name</th>\n",
       "      <th>age</th>\n",
       "    </tr>\n",
       "  </thead>\n",
       "  <tbody>\n",
       "    <tr>\n",
       "      <th>0</th>\n",
       "      <td>32</td>\n",
       "      <td>Piper</td>\n",
       "      <td>5</td>\n",
       "    </tr>\n",
       "    <tr>\n",
       "      <th>2</th>\n",
       "      <td>779</td>\n",
       "      <td>Georgia</td>\n",
       "      <td>20</td>\n",
       "    </tr>\n",
       "    <tr>\n",
       "      <th>3</th>\n",
       "      <td>849</td>\n",
       "      <td>Willow</td>\n",
       "      <td>14</td>\n",
       "    </tr>\n",
       "  </tbody>\n",
       "</table>\n",
       "</div>"
      ],
      "text/plain": [
       "   student_id     name  age\n",
       "0          32    Piper    5\n",
       "2         779  Georgia   20\n",
       "3         849   Willow   14"
      ]
     },
     "execution_count": 19,
     "metadata": {},
     "output_type": "execute_result"
    }
   ],
   "source": [
    "dropMissingData(df)"
   ]
  },
  {
   "cell_type": "markdown",
   "id": "d82f015d",
   "metadata": {},
   "source": [
    "# 8. A company intends to give its employees a pay rise.\n",
    "\n",
    "Write a solution to modify the salary column by multiplying each salary by 2."
   ]
  },
  {
   "cell_type": "code",
   "execution_count": 20,
   "id": "69357eba",
   "metadata": {},
   "outputs": [
    {
     "data": {
      "text/html": [
       "<div>\n",
       "<style scoped>\n",
       "    .dataframe tbody tr th:only-of-type {\n",
       "        vertical-align: middle;\n",
       "    }\n",
       "\n",
       "    .dataframe tbody tr th {\n",
       "        vertical-align: top;\n",
       "    }\n",
       "\n",
       "    .dataframe thead th {\n",
       "        text-align: right;\n",
       "    }\n",
       "</style>\n",
       "<table border=\"1\" class=\"dataframe\">\n",
       "  <thead>\n",
       "    <tr style=\"text-align: right;\">\n",
       "      <th></th>\n",
       "      <th>name</th>\n",
       "      <th>salary</th>\n",
       "    </tr>\n",
       "  </thead>\n",
       "  <tbody>\n",
       "    <tr>\n",
       "      <th>0</th>\n",
       "      <td>Piper</td>\n",
       "      <td>4548</td>\n",
       "    </tr>\n",
       "    <tr>\n",
       "      <th>1</th>\n",
       "      <td>Grace</td>\n",
       "      <td>28150</td>\n",
       "    </tr>\n",
       "    <tr>\n",
       "      <th>2</th>\n",
       "      <td>Georgia</td>\n",
       "      <td>1103</td>\n",
       "    </tr>\n",
       "    <tr>\n",
       "      <th>3</th>\n",
       "      <td>Willow</td>\n",
       "      <td>6593</td>\n",
       "    </tr>\n",
       "    <tr>\n",
       "      <th>4</th>\n",
       "      <td>Finn</td>\n",
       "      <td>74576</td>\n",
       "    </tr>\n",
       "    <tr>\n",
       "      <th>5</th>\n",
       "      <td>Thomas</td>\n",
       "      <td>24433</td>\n",
       "    </tr>\n",
       "  </tbody>\n",
       "</table>\n",
       "</div>"
      ],
      "text/plain": [
       "      name  salary\n",
       "0    Piper    4548\n",
       "1    Grace   28150\n",
       "2  Georgia    1103\n",
       "3   Willow    6593\n",
       "4     Finn   74576\n",
       "5   Thomas   24433"
      ]
     },
     "execution_count": 20,
     "metadata": {},
     "output_type": "execute_result"
    }
   ],
   "source": [
    "names = pd.Series([\"Piper\", \"Grace\", \"Georgia\", \"Willow\", \"Finn\", \"Thomas\"])\n",
    "salaries = pd.Series([4548, 28150, 1103, 6593, 74576, 24433])\n",
    "\n",
    "employees = pd.DataFrame({\n",
    "    \"name\": names,\n",
    "    \"salary\": salaries\n",
    "})\n",
    "employees"
   ]
  },
  {
   "cell_type": "code",
   "execution_count": 21,
   "id": "d40895a8",
   "metadata": {},
   "outputs": [],
   "source": [
    "def modifySalaryColumn(employees: pd.DataFrame) -> pd.DataFrame:\n",
    "    employees['salary']=employees['salary']*2\n",
    "    return employees"
   ]
  },
  {
   "cell_type": "code",
   "execution_count": 22,
   "id": "d58dcca3",
   "metadata": {},
   "outputs": [
    {
     "data": {
      "text/html": [
       "<div>\n",
       "<style scoped>\n",
       "    .dataframe tbody tr th:only-of-type {\n",
       "        vertical-align: middle;\n",
       "    }\n",
       "\n",
       "    .dataframe tbody tr th {\n",
       "        vertical-align: top;\n",
       "    }\n",
       "\n",
       "    .dataframe thead th {\n",
       "        text-align: right;\n",
       "    }\n",
       "</style>\n",
       "<table border=\"1\" class=\"dataframe\">\n",
       "  <thead>\n",
       "    <tr style=\"text-align: right;\">\n",
       "      <th></th>\n",
       "      <th>name</th>\n",
       "      <th>salary</th>\n",
       "    </tr>\n",
       "  </thead>\n",
       "  <tbody>\n",
       "    <tr>\n",
       "      <th>0</th>\n",
       "      <td>Piper</td>\n",
       "      <td>9096</td>\n",
       "    </tr>\n",
       "    <tr>\n",
       "      <th>1</th>\n",
       "      <td>Grace</td>\n",
       "      <td>56300</td>\n",
       "    </tr>\n",
       "    <tr>\n",
       "      <th>2</th>\n",
       "      <td>Georgia</td>\n",
       "      <td>2206</td>\n",
       "    </tr>\n",
       "    <tr>\n",
       "      <th>3</th>\n",
       "      <td>Willow</td>\n",
       "      <td>13186</td>\n",
       "    </tr>\n",
       "    <tr>\n",
       "      <th>4</th>\n",
       "      <td>Finn</td>\n",
       "      <td>149152</td>\n",
       "    </tr>\n",
       "    <tr>\n",
       "      <th>5</th>\n",
       "      <td>Thomas</td>\n",
       "      <td>48866</td>\n",
       "    </tr>\n",
       "  </tbody>\n",
       "</table>\n",
       "</div>"
      ],
      "text/plain": [
       "      name  salary\n",
       "0    Piper    9096\n",
       "1    Grace   56300\n",
       "2  Georgia    2206\n",
       "3   Willow   13186\n",
       "4     Finn  149152\n",
       "5   Thomas   48866"
      ]
     },
     "execution_count": 22,
     "metadata": {},
     "output_type": "execute_result"
    }
   ],
   "source": [
    "modifySalaryColumn(employees)"
   ]
  },
  {
   "cell_type": "markdown",
   "id": "5f91b2bf",
   "metadata": {},
   "source": [
    "# 9. Write a solution to rename the columns as follows:\n",
    "\n",
    "id to student_id,\n",
    "first to first_name,\n",
    "last to last_name,\n",
    "age to age_in_years,"
   ]
  },
  {
   "cell_type": "code",
   "execution_count": 23,
   "id": "4b99b6d9",
   "metadata": {},
   "outputs": [
    {
     "name": "stdout",
     "output_type": "stream",
     "text": [
      "   id    first      last  age\n",
      "0   1    Mason      King    6\n",
      "1   2      Ava    Wright    7\n",
      "2   3   Taylor      Hall   16\n",
      "3   4  Georgia  Thompson   18\n",
      "4   5   Thomas     Moore   10\n"
     ]
    }
   ],
   "source": [
    "data = [\n",
    "    [1, \"Mason\", \"King\", 6],\n",
    "    [2, \"Ava\", \"Wright\", 7],\n",
    "    [3, \"Taylor\", \"Hall\", 16],\n",
    "    [4, \"Georgia\", \"Thompson\", 18],\n",
    "    [5, \"Thomas\", \"Moore\", 10]\n",
    "]\n",
    "\n",
    "df = pd.DataFrame(data, columns=[\"id\", \"first\", \"last\", \"age\"])\n",
    "print(df)"
   ]
  },
  {
   "cell_type": "code",
   "execution_count": 24,
   "id": "a2c87004",
   "metadata": {},
   "outputs": [],
   "source": [
    "def renameColumns(students: pd.DataFrame) -> pd.DataFrame:\n",
    "    return(students.rename(columns={'id':'student_id','first':'first_name','last':'last_name','age':'age_in_years'}))"
   ]
  },
  {
   "cell_type": "code",
   "execution_count": 25,
   "id": "d46b6b1d",
   "metadata": {},
   "outputs": [
    {
     "data": {
      "text/html": [
       "<div>\n",
       "<style scoped>\n",
       "    .dataframe tbody tr th:only-of-type {\n",
       "        vertical-align: middle;\n",
       "    }\n",
       "\n",
       "    .dataframe tbody tr th {\n",
       "        vertical-align: top;\n",
       "    }\n",
       "\n",
       "    .dataframe thead th {\n",
       "        text-align: right;\n",
       "    }\n",
       "</style>\n",
       "<table border=\"1\" class=\"dataframe\">\n",
       "  <thead>\n",
       "    <tr style=\"text-align: right;\">\n",
       "      <th></th>\n",
       "      <th>student_id</th>\n",
       "      <th>first_name</th>\n",
       "      <th>last_name</th>\n",
       "      <th>age_in_years</th>\n",
       "    </tr>\n",
       "  </thead>\n",
       "  <tbody>\n",
       "    <tr>\n",
       "      <th>0</th>\n",
       "      <td>1</td>\n",
       "      <td>Mason</td>\n",
       "      <td>King</td>\n",
       "      <td>6</td>\n",
       "    </tr>\n",
       "    <tr>\n",
       "      <th>1</th>\n",
       "      <td>2</td>\n",
       "      <td>Ava</td>\n",
       "      <td>Wright</td>\n",
       "      <td>7</td>\n",
       "    </tr>\n",
       "    <tr>\n",
       "      <th>2</th>\n",
       "      <td>3</td>\n",
       "      <td>Taylor</td>\n",
       "      <td>Hall</td>\n",
       "      <td>16</td>\n",
       "    </tr>\n",
       "    <tr>\n",
       "      <th>3</th>\n",
       "      <td>4</td>\n",
       "      <td>Georgia</td>\n",
       "      <td>Thompson</td>\n",
       "      <td>18</td>\n",
       "    </tr>\n",
       "    <tr>\n",
       "      <th>4</th>\n",
       "      <td>5</td>\n",
       "      <td>Thomas</td>\n",
       "      <td>Moore</td>\n",
       "      <td>10</td>\n",
       "    </tr>\n",
       "  </tbody>\n",
       "</table>\n",
       "</div>"
      ],
      "text/plain": [
       "   student_id first_name last_name  age_in_years\n",
       "0           1      Mason      King             6\n",
       "1           2        Ava    Wright             7\n",
       "2           3     Taylor      Hall            16\n",
       "3           4    Georgia  Thompson            18\n",
       "4           5     Thomas     Moore            10"
      ]
     },
     "execution_count": 25,
     "metadata": {},
     "output_type": "execute_result"
    }
   ],
   "source": [
    "renameColumns(df)"
   ]
  },
  {
   "cell_type": "markdown",
   "id": "331a76d9",
   "metadata": {},
   "source": [
    "# 10. The grade column is stored as floats, convert it to integers."
   ]
  },
  {
   "cell_type": "code",
   "execution_count": 26,
   "id": "d72b72a0",
   "metadata": {},
   "outputs": [
    {
     "data": {
      "text/html": [
       "<div>\n",
       "<style scoped>\n",
       "    .dataframe tbody tr th:only-of-type {\n",
       "        vertical-align: middle;\n",
       "    }\n",
       "\n",
       "    .dataframe tbody tr th {\n",
       "        vertical-align: top;\n",
       "    }\n",
       "\n",
       "    .dataframe thead th {\n",
       "        text-align: right;\n",
       "    }\n",
       "</style>\n",
       "<table border=\"1\" class=\"dataframe\">\n",
       "  <thead>\n",
       "    <tr style=\"text-align: right;\">\n",
       "      <th></th>\n",
       "      <th>student_id</th>\n",
       "      <th>name</th>\n",
       "      <th>age</th>\n",
       "      <th>grade</th>\n",
       "    </tr>\n",
       "  </thead>\n",
       "  <tbody>\n",
       "    <tr>\n",
       "      <th>0</th>\n",
       "      <td>1</td>\n",
       "      <td>Ava</td>\n",
       "      <td>6</td>\n",
       "      <td>73.0</td>\n",
       "    </tr>\n",
       "    <tr>\n",
       "      <th>1</th>\n",
       "      <td>2</td>\n",
       "      <td>Kate</td>\n",
       "      <td>15</td>\n",
       "      <td>87.0</td>\n",
       "    </tr>\n",
       "  </tbody>\n",
       "</table>\n",
       "</div>"
      ],
      "text/plain": [
       "   student_id  name  age  grade\n",
       "0           1   Ava    6   73.0\n",
       "1           2  Kate   15   87.0"
      ]
     },
     "execution_count": 26,
     "metadata": {},
     "output_type": "execute_result"
    }
   ],
   "source": [
    "data = [\n",
    "    [1, \"Ava\", 6, 73.0],\n",
    "    [2, \"Kate\", 15, 87.0]\n",
    "]\n",
    "\n",
    "df = pd.DataFrame(data, columns=[\"student_id\", \"name\", \"age\", \"grade\"])\n",
    "df"
   ]
  },
  {
   "cell_type": "code",
   "execution_count": 27,
   "id": "adcbd834",
   "metadata": {},
   "outputs": [],
   "source": [
    "def changeDatatype(students: pd.DataFrame) -> pd.DataFrame:\n",
    "    students['grade']=students['grade'].astype('int')\n",
    "    return students"
   ]
  },
  {
   "cell_type": "code",
   "execution_count": 28,
   "id": "03954441",
   "metadata": {},
   "outputs": [
    {
     "data": {
      "text/html": [
       "<div>\n",
       "<style scoped>\n",
       "    .dataframe tbody tr th:only-of-type {\n",
       "        vertical-align: middle;\n",
       "    }\n",
       "\n",
       "    .dataframe tbody tr th {\n",
       "        vertical-align: top;\n",
       "    }\n",
       "\n",
       "    .dataframe thead th {\n",
       "        text-align: right;\n",
       "    }\n",
       "</style>\n",
       "<table border=\"1\" class=\"dataframe\">\n",
       "  <thead>\n",
       "    <tr style=\"text-align: right;\">\n",
       "      <th></th>\n",
       "      <th>student_id</th>\n",
       "      <th>name</th>\n",
       "      <th>age</th>\n",
       "      <th>grade</th>\n",
       "    </tr>\n",
       "  </thead>\n",
       "  <tbody>\n",
       "    <tr>\n",
       "      <th>0</th>\n",
       "      <td>1</td>\n",
       "      <td>Ava</td>\n",
       "      <td>6</td>\n",
       "      <td>73</td>\n",
       "    </tr>\n",
       "    <tr>\n",
       "      <th>1</th>\n",
       "      <td>2</td>\n",
       "      <td>Kate</td>\n",
       "      <td>15</td>\n",
       "      <td>87</td>\n",
       "    </tr>\n",
       "  </tbody>\n",
       "</table>\n",
       "</div>"
      ],
      "text/plain": [
       "   student_id  name  age  grade\n",
       "0           1   Ava    6     73\n",
       "1           2  Kate   15     87"
      ]
     },
     "execution_count": 28,
     "metadata": {},
     "output_type": "execute_result"
    }
   ],
   "source": [
    "changeDatatype(df)"
   ]
  },
  {
   "cell_type": "markdown",
   "id": "7d01efb9",
   "metadata": {},
   "source": [
    "# 11.Write a solution to fill in the missing value as 0 in the quantity column"
   ]
  },
  {
   "cell_type": "code",
   "execution_count": 29,
   "id": "38f294d7",
   "metadata": {},
   "outputs": [
    {
     "data": {
      "text/html": [
       "<div>\n",
       "<style scoped>\n",
       "    .dataframe tbody tr th:only-of-type {\n",
       "        vertical-align: middle;\n",
       "    }\n",
       "\n",
       "    .dataframe tbody tr th {\n",
       "        vertical-align: top;\n",
       "    }\n",
       "\n",
       "    .dataframe thead th {\n",
       "        text-align: right;\n",
       "    }\n",
       "</style>\n",
       "<table border=\"1\" class=\"dataframe\">\n",
       "  <thead>\n",
       "    <tr style=\"text-align: right;\">\n",
       "      <th></th>\n",
       "      <th>name</th>\n",
       "      <th>quantity</th>\n",
       "      <th>price</th>\n",
       "    </tr>\n",
       "  </thead>\n",
       "  <tbody>\n",
       "    <tr>\n",
       "      <th>0</th>\n",
       "      <td>Wristwatch</td>\n",
       "      <td>NaN</td>\n",
       "      <td>135</td>\n",
       "    </tr>\n",
       "    <tr>\n",
       "      <th>1</th>\n",
       "      <td>WirelessEarbuds</td>\n",
       "      <td>NaN</td>\n",
       "      <td>821</td>\n",
       "    </tr>\n",
       "    <tr>\n",
       "      <th>2</th>\n",
       "      <td>GolfClubs</td>\n",
       "      <td>779.0</td>\n",
       "      <td>9319</td>\n",
       "    </tr>\n",
       "    <tr>\n",
       "      <th>3</th>\n",
       "      <td>Printer</td>\n",
       "      <td>849.0</td>\n",
       "      <td>3051</td>\n",
       "    </tr>\n",
       "  </tbody>\n",
       "</table>\n",
       "</div>"
      ],
      "text/plain": [
       "              name  quantity  price\n",
       "0       Wristwatch       NaN    135\n",
       "1  WirelessEarbuds       NaN    821\n",
       "2        GolfClubs     779.0   9319\n",
       "3          Printer     849.0   3051"
      ]
     },
     "execution_count": 29,
     "metadata": {},
     "output_type": "execute_result"
    }
   ],
   "source": [
    "data = [\n",
    "    [\"Wristwatch\", None, 135],\n",
    "    [\"WirelessEarbuds\", None, 821],\n",
    "    [\"GolfClubs\", 779, 9319],\n",
    "    [\"Printer\", 849, 3051]\n",
    "]\n",
    "\n",
    "df = pd.DataFrame(data, columns=[\"name\", \"quantity\", \"price\"])\n",
    "df"
   ]
  },
  {
   "cell_type": "code",
   "execution_count": 30,
   "id": "15c1fe60",
   "metadata": {},
   "outputs": [],
   "source": [
    "def fillMissingValues(products: pd.DataFrame) -> pd.DataFrame:\n",
    "    products['quantity'].fillna(0,inplace=True)\n",
    "    return products"
   ]
  },
  {
   "cell_type": "code",
   "execution_count": 31,
   "id": "23f14107",
   "metadata": {},
   "outputs": [
    {
     "data": {
      "text/html": [
       "<div>\n",
       "<style scoped>\n",
       "    .dataframe tbody tr th:only-of-type {\n",
       "        vertical-align: middle;\n",
       "    }\n",
       "\n",
       "    .dataframe tbody tr th {\n",
       "        vertical-align: top;\n",
       "    }\n",
       "\n",
       "    .dataframe thead th {\n",
       "        text-align: right;\n",
       "    }\n",
       "</style>\n",
       "<table border=\"1\" class=\"dataframe\">\n",
       "  <thead>\n",
       "    <tr style=\"text-align: right;\">\n",
       "      <th></th>\n",
       "      <th>name</th>\n",
       "      <th>quantity</th>\n",
       "      <th>price</th>\n",
       "    </tr>\n",
       "  </thead>\n",
       "  <tbody>\n",
       "    <tr>\n",
       "      <th>0</th>\n",
       "      <td>Wristwatch</td>\n",
       "      <td>0.0</td>\n",
       "      <td>135</td>\n",
       "    </tr>\n",
       "    <tr>\n",
       "      <th>1</th>\n",
       "      <td>WirelessEarbuds</td>\n",
       "      <td>0.0</td>\n",
       "      <td>821</td>\n",
       "    </tr>\n",
       "    <tr>\n",
       "      <th>2</th>\n",
       "      <td>GolfClubs</td>\n",
       "      <td>779.0</td>\n",
       "      <td>9319</td>\n",
       "    </tr>\n",
       "    <tr>\n",
       "      <th>3</th>\n",
       "      <td>Printer</td>\n",
       "      <td>849.0</td>\n",
       "      <td>3051</td>\n",
       "    </tr>\n",
       "  </tbody>\n",
       "</table>\n",
       "</div>"
      ],
      "text/plain": [
       "              name  quantity  price\n",
       "0       Wristwatch       0.0    135\n",
       "1  WirelessEarbuds       0.0    821\n",
       "2        GolfClubs     779.0   9319\n",
       "3          Printer     849.0   3051"
      ]
     },
     "execution_count": 31,
     "metadata": {},
     "output_type": "execute_result"
    }
   ],
   "source": [
    "fillMissingValues(df)"
   ]
  },
  {
   "cell_type": "markdown",
   "id": "50f373f9",
   "metadata": {},
   "source": [
    "# 12 Write a solution to concatenate these two DataFrames vertically into one DataFrame"
   ]
  },
  {
   "cell_type": "code",
   "execution_count": 32,
   "id": "01cb4843",
   "metadata": {},
   "outputs": [],
   "source": [
    "data1 = [\n",
    "    [1, \"Mason\", 8],\n",
    "    [2, \"Ava\", 6],\n",
    "    [3, \"Taylor\", 15],\n",
    "    [4, \"Georgia\", 17]\n",
    "]\n",
    "data2 = [\n",
    "    [5, \"Leo\", 7],\n",
    "    [6, \"Alex\", 7]\n",
    "]\n",
    "\n",
    "df1 = pd.DataFrame(data1, columns=[\"student_id\", \"name\", \"age\"])\n",
    "\n",
    "df2 = pd.DataFrame(data2, columns=[\"student_id\", \"name\", \"age\"])"
   ]
  },
  {
   "cell_type": "code",
   "execution_count": 33,
   "id": "4b868051",
   "metadata": {},
   "outputs": [],
   "source": [
    "def concatenateTables(df1: pd.DataFrame, df2: pd.DataFrame) -> pd.DataFrame:\n",
    "    new_df=pd.concat([df1,df2],axis=0)\n",
    "    return(new_df)"
   ]
  },
  {
   "cell_type": "code",
   "execution_count": 34,
   "id": "ccd7e892",
   "metadata": {},
   "outputs": [
    {
     "data": {
      "text/html": [
       "<div>\n",
       "<style scoped>\n",
       "    .dataframe tbody tr th:only-of-type {\n",
       "        vertical-align: middle;\n",
       "    }\n",
       "\n",
       "    .dataframe tbody tr th {\n",
       "        vertical-align: top;\n",
       "    }\n",
       "\n",
       "    .dataframe thead th {\n",
       "        text-align: right;\n",
       "    }\n",
       "</style>\n",
       "<table border=\"1\" class=\"dataframe\">\n",
       "  <thead>\n",
       "    <tr style=\"text-align: right;\">\n",
       "      <th></th>\n",
       "      <th>student_id</th>\n",
       "      <th>name</th>\n",
       "      <th>age</th>\n",
       "    </tr>\n",
       "  </thead>\n",
       "  <tbody>\n",
       "    <tr>\n",
       "      <th>0</th>\n",
       "      <td>1</td>\n",
       "      <td>Mason</td>\n",
       "      <td>8</td>\n",
       "    </tr>\n",
       "    <tr>\n",
       "      <th>1</th>\n",
       "      <td>2</td>\n",
       "      <td>Ava</td>\n",
       "      <td>6</td>\n",
       "    </tr>\n",
       "    <tr>\n",
       "      <th>2</th>\n",
       "      <td>3</td>\n",
       "      <td>Taylor</td>\n",
       "      <td>15</td>\n",
       "    </tr>\n",
       "    <tr>\n",
       "      <th>3</th>\n",
       "      <td>4</td>\n",
       "      <td>Georgia</td>\n",
       "      <td>17</td>\n",
       "    </tr>\n",
       "    <tr>\n",
       "      <th>0</th>\n",
       "      <td>5</td>\n",
       "      <td>Leo</td>\n",
       "      <td>7</td>\n",
       "    </tr>\n",
       "    <tr>\n",
       "      <th>1</th>\n",
       "      <td>6</td>\n",
       "      <td>Alex</td>\n",
       "      <td>7</td>\n",
       "    </tr>\n",
       "  </tbody>\n",
       "</table>\n",
       "</div>"
      ],
      "text/plain": [
       "   student_id     name  age\n",
       "0           1    Mason    8\n",
       "1           2      Ava    6\n",
       "2           3   Taylor   15\n",
       "3           4  Georgia   17\n",
       "0           5      Leo    7\n",
       "1           6     Alex    7"
      ]
     },
     "execution_count": 34,
     "metadata": {},
     "output_type": "execute_result"
    }
   ],
   "source": [
    "concatenateTables(df1,df2)"
   ]
  },
  {
   "cell_type": "markdown",
   "id": "2d873aa9",
   "metadata": {},
   "source": [
    "# 13. Write a solution to pivot the data so that each row represents temperatures for a specific month, and each city is a separate column."
   ]
  },
  {
   "cell_type": "code",
   "execution_count": 35,
   "id": "9578450a",
   "metadata": {},
   "outputs": [
    {
     "data": {
      "text/html": [
       "<div>\n",
       "<style scoped>\n",
       "    .dataframe tbody tr th:only-of-type {\n",
       "        vertical-align: middle;\n",
       "    }\n",
       "\n",
       "    .dataframe tbody tr th {\n",
       "        vertical-align: top;\n",
       "    }\n",
       "\n",
       "    .dataframe thead th {\n",
       "        text-align: right;\n",
       "    }\n",
       "</style>\n",
       "<table border=\"1\" class=\"dataframe\">\n",
       "  <thead>\n",
       "    <tr style=\"text-align: right;\">\n",
       "      <th></th>\n",
       "      <th>city</th>\n",
       "      <th>month</th>\n",
       "      <th>temperature</th>\n",
       "    </tr>\n",
       "  </thead>\n",
       "  <tbody>\n",
       "    <tr>\n",
       "      <th>0</th>\n",
       "      <td>Jacksonville</td>\n",
       "      <td>January</td>\n",
       "      <td>13</td>\n",
       "    </tr>\n",
       "    <tr>\n",
       "      <th>1</th>\n",
       "      <td>Jacksonville</td>\n",
       "      <td>February</td>\n",
       "      <td>23</td>\n",
       "    </tr>\n",
       "    <tr>\n",
       "      <th>2</th>\n",
       "      <td>Jacksonville</td>\n",
       "      <td>March</td>\n",
       "      <td>38</td>\n",
       "    </tr>\n",
       "    <tr>\n",
       "      <th>3</th>\n",
       "      <td>Jacksonville</td>\n",
       "      <td>April</td>\n",
       "      <td>5</td>\n",
       "    </tr>\n",
       "    <tr>\n",
       "      <th>4</th>\n",
       "      <td>Jacksonville</td>\n",
       "      <td>May</td>\n",
       "      <td>34</td>\n",
       "    </tr>\n",
       "    <tr>\n",
       "      <th>5</th>\n",
       "      <td>ElPaso</td>\n",
       "      <td>January</td>\n",
       "      <td>20</td>\n",
       "    </tr>\n",
       "    <tr>\n",
       "      <th>6</th>\n",
       "      <td>ElPaso</td>\n",
       "      <td>February</td>\n",
       "      <td>6</td>\n",
       "    </tr>\n",
       "    <tr>\n",
       "      <th>7</th>\n",
       "      <td>ElPaso</td>\n",
       "      <td>March</td>\n",
       "      <td>26</td>\n",
       "    </tr>\n",
       "    <tr>\n",
       "      <th>8</th>\n",
       "      <td>ElPaso</td>\n",
       "      <td>April</td>\n",
       "      <td>2</td>\n",
       "    </tr>\n",
       "    <tr>\n",
       "      <th>9</th>\n",
       "      <td>ElPaso</td>\n",
       "      <td>May</td>\n",
       "      <td>43</td>\n",
       "    </tr>\n",
       "  </tbody>\n",
       "</table>\n",
       "</div>"
      ],
      "text/plain": [
       "           city     month  temperature\n",
       "0  Jacksonville   January           13\n",
       "1  Jacksonville  February           23\n",
       "2  Jacksonville     March           38\n",
       "3  Jacksonville     April            5\n",
       "4  Jacksonville       May           34\n",
       "5        ElPaso   January           20\n",
       "6        ElPaso  February            6\n",
       "7        ElPaso     March           26\n",
       "8        ElPaso     April            2\n",
       "9        ElPaso       May           43"
      ]
     },
     "execution_count": 35,
     "metadata": {},
     "output_type": "execute_result"
    }
   ],
   "source": [
    "data = [\n",
    "    [\"Jacksonville\", \"January\", 13],\n",
    "    [\"Jacksonville\", \"February\", 23],\n",
    "    [\"Jacksonville\", \"March\", 38],\n",
    "    [\"Jacksonville\", \"April\", 5],\n",
    "    [\"Jacksonville\", \"May\", 34],\n",
    "    [\"ElPaso\", \"January\", 20],\n",
    "    [\"ElPaso\", \"February\", 6],\n",
    "    [\"ElPaso\", \"March\", 26],\n",
    "    [\"ElPaso\", \"April\", 2],\n",
    "    [\"ElPaso\", \"May\", 43]\n",
    "]\n",
    "df = pd.DataFrame(data, columns=[\"city\", \"month\", \"temperature\"])\n",
    "df"
   ]
  },
  {
   "cell_type": "code",
   "execution_count": 36,
   "id": "ed52f358",
   "metadata": {},
   "outputs": [],
   "source": [
    "def pivotTable(weather: pd.DataFrame) -> pd.DataFrame:\n",
    "    pvt=pd.pivot_table(index='month',columns='city',values='temperature',data=weather)\n",
    "    return(pvt)"
   ]
  },
  {
   "cell_type": "code",
   "execution_count": 37,
   "id": "4793a4d7",
   "metadata": {},
   "outputs": [
    {
     "data": {
      "text/html": [
       "<div>\n",
       "<style scoped>\n",
       "    .dataframe tbody tr th:only-of-type {\n",
       "        vertical-align: middle;\n",
       "    }\n",
       "\n",
       "    .dataframe tbody tr th {\n",
       "        vertical-align: top;\n",
       "    }\n",
       "\n",
       "    .dataframe thead th {\n",
       "        text-align: right;\n",
       "    }\n",
       "</style>\n",
       "<table border=\"1\" class=\"dataframe\">\n",
       "  <thead>\n",
       "    <tr style=\"text-align: right;\">\n",
       "      <th>city</th>\n",
       "      <th>ElPaso</th>\n",
       "      <th>Jacksonville</th>\n",
       "    </tr>\n",
       "    <tr>\n",
       "      <th>month</th>\n",
       "      <th></th>\n",
       "      <th></th>\n",
       "    </tr>\n",
       "  </thead>\n",
       "  <tbody>\n",
       "    <tr>\n",
       "      <th>April</th>\n",
       "      <td>2</td>\n",
       "      <td>5</td>\n",
       "    </tr>\n",
       "    <tr>\n",
       "      <th>February</th>\n",
       "      <td>6</td>\n",
       "      <td>23</td>\n",
       "    </tr>\n",
       "    <tr>\n",
       "      <th>January</th>\n",
       "      <td>20</td>\n",
       "      <td>13</td>\n",
       "    </tr>\n",
       "    <tr>\n",
       "      <th>March</th>\n",
       "      <td>26</td>\n",
       "      <td>38</td>\n",
       "    </tr>\n",
       "    <tr>\n",
       "      <th>May</th>\n",
       "      <td>43</td>\n",
       "      <td>34</td>\n",
       "    </tr>\n",
       "  </tbody>\n",
       "</table>\n",
       "</div>"
      ],
      "text/plain": [
       "city      ElPaso  Jacksonville\n",
       "month                         \n",
       "April          2             5\n",
       "February       6            23\n",
       "January       20            13\n",
       "March         26            38\n",
       "May           43            34"
      ]
     },
     "execution_count": 37,
     "metadata": {},
     "output_type": "execute_result"
    }
   ],
   "source": [
    "pivotTable(df)"
   ]
  },
  {
   "cell_type": "markdown",
   "id": "8ca93460",
   "metadata": {},
   "source": [
    "# 14. Write a solution to reshape the data so that each row represents sales data for a product in a specific quarter."
   ]
  },
  {
   "cell_type": "code",
   "execution_count": 38,
   "id": "6531424c",
   "metadata": {},
   "outputs": [
    {
     "data": {
      "text/html": [
       "<div>\n",
       "<style scoped>\n",
       "    .dataframe tbody tr th:only-of-type {\n",
       "        vertical-align: middle;\n",
       "    }\n",
       "\n",
       "    .dataframe tbody tr th {\n",
       "        vertical-align: top;\n",
       "    }\n",
       "\n",
       "    .dataframe thead th {\n",
       "        text-align: right;\n",
       "    }\n",
       "</style>\n",
       "<table border=\"1\" class=\"dataframe\">\n",
       "  <thead>\n",
       "    <tr style=\"text-align: right;\">\n",
       "      <th></th>\n",
       "      <th>product</th>\n",
       "      <th>quarter_1</th>\n",
       "      <th>quarter_2</th>\n",
       "      <th>quarter_3</th>\n",
       "      <th>quarter_4</th>\n",
       "    </tr>\n",
       "  </thead>\n",
       "  <tbody>\n",
       "    <tr>\n",
       "      <th>0</th>\n",
       "      <td>Umbrella</td>\n",
       "      <td>417</td>\n",
       "      <td>224</td>\n",
       "      <td>379</td>\n",
       "      <td>611</td>\n",
       "    </tr>\n",
       "    <tr>\n",
       "      <th>1</th>\n",
       "      <td>SleepingBag</td>\n",
       "      <td>800</td>\n",
       "      <td>936</td>\n",
       "      <td>93</td>\n",
       "      <td>875</td>\n",
       "    </tr>\n",
       "  </tbody>\n",
       "</table>\n",
       "</div>"
      ],
      "text/plain": [
       "       product  quarter_1  quarter_2  quarter_3  quarter_4\n",
       "0     Umbrella        417        224        379        611\n",
       "1  SleepingBag        800        936         93        875"
      ]
     },
     "execution_count": 38,
     "metadata": {},
     "output_type": "execute_result"
    }
   ],
   "source": [
    "data = [\n",
    "    [\"Umbrella\", 417, 224, 379, 611],\n",
    "    [\"SleepingBag\", 800, 936, 93, 875]\n",
    "]\n",
    "\n",
    "df = pd.DataFrame(data, columns=[\"product\", \"quarter_1\", \"quarter_2\", \"quarter_3\", \"quarter_4\"])\n",
    "df"
   ]
  },
  {
   "cell_type": "code",
   "execution_count": 39,
   "id": "d18fc97b",
   "metadata": {},
   "outputs": [],
   "source": [
    "def meltTable(report: pd.DataFrame) -> pd.DataFrame:\n",
    "    return(pd.melt(report,id_vars='product',value_vars=['quarter_1','quarter_2','quarter_3','quarter_4'],var_name='quarter',value_name='sales'))"
   ]
  },
  {
   "cell_type": "code",
   "execution_count": 40,
   "id": "d3e16af8",
   "metadata": {},
   "outputs": [
    {
     "data": {
      "text/html": [
       "<div>\n",
       "<style scoped>\n",
       "    .dataframe tbody tr th:only-of-type {\n",
       "        vertical-align: middle;\n",
       "    }\n",
       "\n",
       "    .dataframe tbody tr th {\n",
       "        vertical-align: top;\n",
       "    }\n",
       "\n",
       "    .dataframe thead th {\n",
       "        text-align: right;\n",
       "    }\n",
       "</style>\n",
       "<table border=\"1\" class=\"dataframe\">\n",
       "  <thead>\n",
       "    <tr style=\"text-align: right;\">\n",
       "      <th></th>\n",
       "      <th>product</th>\n",
       "      <th>quarter</th>\n",
       "      <th>sales</th>\n",
       "    </tr>\n",
       "  </thead>\n",
       "  <tbody>\n",
       "    <tr>\n",
       "      <th>0</th>\n",
       "      <td>Umbrella</td>\n",
       "      <td>quarter_1</td>\n",
       "      <td>417</td>\n",
       "    </tr>\n",
       "    <tr>\n",
       "      <th>1</th>\n",
       "      <td>SleepingBag</td>\n",
       "      <td>quarter_1</td>\n",
       "      <td>800</td>\n",
       "    </tr>\n",
       "    <tr>\n",
       "      <th>2</th>\n",
       "      <td>Umbrella</td>\n",
       "      <td>quarter_2</td>\n",
       "      <td>224</td>\n",
       "    </tr>\n",
       "    <tr>\n",
       "      <th>3</th>\n",
       "      <td>SleepingBag</td>\n",
       "      <td>quarter_2</td>\n",
       "      <td>936</td>\n",
       "    </tr>\n",
       "    <tr>\n",
       "      <th>4</th>\n",
       "      <td>Umbrella</td>\n",
       "      <td>quarter_3</td>\n",
       "      <td>379</td>\n",
       "    </tr>\n",
       "    <tr>\n",
       "      <th>5</th>\n",
       "      <td>SleepingBag</td>\n",
       "      <td>quarter_3</td>\n",
       "      <td>93</td>\n",
       "    </tr>\n",
       "    <tr>\n",
       "      <th>6</th>\n",
       "      <td>Umbrella</td>\n",
       "      <td>quarter_4</td>\n",
       "      <td>611</td>\n",
       "    </tr>\n",
       "    <tr>\n",
       "      <th>7</th>\n",
       "      <td>SleepingBag</td>\n",
       "      <td>quarter_4</td>\n",
       "      <td>875</td>\n",
       "    </tr>\n",
       "  </tbody>\n",
       "</table>\n",
       "</div>"
      ],
      "text/plain": [
       "       product    quarter  sales\n",
       "0     Umbrella  quarter_1    417\n",
       "1  SleepingBag  quarter_1    800\n",
       "2     Umbrella  quarter_2    224\n",
       "3  SleepingBag  quarter_2    936\n",
       "4     Umbrella  quarter_3    379\n",
       "5  SleepingBag  quarter_3     93\n",
       "6     Umbrella  quarter_4    611\n",
       "7  SleepingBag  quarter_4    875"
      ]
     },
     "execution_count": 40,
     "metadata": {},
     "output_type": "execute_result"
    }
   ],
   "source": [
    "meltTable(df)"
   ]
  },
  {
   "cell_type": "markdown",
   "id": "0b260ec0",
   "metadata": {},
   "source": [
    "# 15. Write a solution to list the names of animals that weigh strictly more than 100 kilograms.\n",
    "\n",
    "Return the animals sorted by weight in descending order."
   ]
  },
  {
   "cell_type": "code",
   "execution_count": 41,
   "id": "a73f0520",
   "metadata": {},
   "outputs": [
    {
     "data": {
      "text/html": [
       "<div>\n",
       "<style scoped>\n",
       "    .dataframe tbody tr th:only-of-type {\n",
       "        vertical-align: middle;\n",
       "    }\n",
       "\n",
       "    .dataframe tbody tr th {\n",
       "        vertical-align: top;\n",
       "    }\n",
       "\n",
       "    .dataframe thead th {\n",
       "        text-align: right;\n",
       "    }\n",
       "</style>\n",
       "<table border=\"1\" class=\"dataframe\">\n",
       "  <thead>\n",
       "    <tr style=\"text-align: right;\">\n",
       "      <th></th>\n",
       "      <th>name</th>\n",
       "      <th>species</th>\n",
       "      <th>age</th>\n",
       "      <th>weight</th>\n",
       "    </tr>\n",
       "  </thead>\n",
       "  <tbody>\n",
       "    <tr>\n",
       "      <th>0</th>\n",
       "      <td>Tatiana</td>\n",
       "      <td>Snake</td>\n",
       "      <td>98</td>\n",
       "      <td>464</td>\n",
       "    </tr>\n",
       "    <tr>\n",
       "      <th>1</th>\n",
       "      <td>Khaled</td>\n",
       "      <td>Giraffe</td>\n",
       "      <td>50</td>\n",
       "      <td>41</td>\n",
       "    </tr>\n",
       "    <tr>\n",
       "      <th>2</th>\n",
       "      <td>Alex</td>\n",
       "      <td>Leopard</td>\n",
       "      <td>6</td>\n",
       "      <td>328</td>\n",
       "    </tr>\n",
       "    <tr>\n",
       "      <th>3</th>\n",
       "      <td>Jonathan</td>\n",
       "      <td>Monkey</td>\n",
       "      <td>45</td>\n",
       "      <td>463</td>\n",
       "    </tr>\n",
       "    <tr>\n",
       "      <th>4</th>\n",
       "      <td>Stefan</td>\n",
       "      <td>Bear</td>\n",
       "      <td>100</td>\n",
       "      <td>50</td>\n",
       "    </tr>\n",
       "    <tr>\n",
       "      <th>5</th>\n",
       "      <td>Tommy</td>\n",
       "      <td>Panda</td>\n",
       "      <td>26</td>\n",
       "      <td>349</td>\n",
       "    </tr>\n",
       "  </tbody>\n",
       "</table>\n",
       "</div>"
      ],
      "text/plain": [
       "       name  species  age  weight\n",
       "0   Tatiana    Snake   98     464\n",
       "1    Khaled  Giraffe   50      41\n",
       "2      Alex  Leopard    6     328\n",
       "3  Jonathan   Monkey   45     463\n",
       "4    Stefan     Bear  100      50\n",
       "5     Tommy    Panda   26     349"
      ]
     },
     "execution_count": 41,
     "metadata": {},
     "output_type": "execute_result"
    }
   ],
   "source": [
    "data = [\n",
    "    [\"Tatiana\", \"Snake\", 98, 464],\n",
    "    [\"Khaled\", \"Giraffe\", 50, 41],\n",
    "    [\"Alex\", \"Leopard\", 6, 328],\n",
    "    [\"Jonathan\", \"Monkey\", 45, 463],\n",
    "    [\"Stefan\", \"Bear\", 100, 50],\n",
    "    [\"Tommy\", \"Panda\", 26, 349]\n",
    "]\n",
    "\n",
    "df = pd.DataFrame(data, columns=[\"name\", \"species\", \"age\", \"weight\"])\n",
    "df"
   ]
  },
  {
   "cell_type": "code",
   "execution_count": 42,
   "id": "a4c776a2",
   "metadata": {},
   "outputs": [],
   "source": [
    "def findHeavyAnimals(animals: pd.DataFrame) -> pd.DataFrame:\n",
    "    return(animals[animals['weight']>100].sort_values(by='weight',ascending=False)[['name']])"
   ]
  },
  {
   "cell_type": "code",
   "execution_count": 43,
   "id": "4103cc3e",
   "metadata": {},
   "outputs": [
    {
     "data": {
      "text/html": [
       "<div>\n",
       "<style scoped>\n",
       "    .dataframe tbody tr th:only-of-type {\n",
       "        vertical-align: middle;\n",
       "    }\n",
       "\n",
       "    .dataframe tbody tr th {\n",
       "        vertical-align: top;\n",
       "    }\n",
       "\n",
       "    .dataframe thead th {\n",
       "        text-align: right;\n",
       "    }\n",
       "</style>\n",
       "<table border=\"1\" class=\"dataframe\">\n",
       "  <thead>\n",
       "    <tr style=\"text-align: right;\">\n",
       "      <th></th>\n",
       "      <th>name</th>\n",
       "    </tr>\n",
       "  </thead>\n",
       "  <tbody>\n",
       "    <tr>\n",
       "      <th>0</th>\n",
       "      <td>Tatiana</td>\n",
       "    </tr>\n",
       "    <tr>\n",
       "      <th>3</th>\n",
       "      <td>Jonathan</td>\n",
       "    </tr>\n",
       "    <tr>\n",
       "      <th>5</th>\n",
       "      <td>Tommy</td>\n",
       "    </tr>\n",
       "    <tr>\n",
       "      <th>2</th>\n",
       "      <td>Alex</td>\n",
       "    </tr>\n",
       "  </tbody>\n",
       "</table>\n",
       "</div>"
      ],
      "text/plain": [
       "       name\n",
       "0   Tatiana\n",
       "3  Jonathan\n",
       "5     Tommy\n",
       "2      Alex"
      ]
     },
     "execution_count": 43,
     "metadata": {},
     "output_type": "execute_result"
    }
   ],
   "source": [
    "findHeavyAnimals(df)"
   ]
  },
  {
   "cell_type": "code",
   "execution_count": null,
   "id": "35d2d983",
   "metadata": {},
   "outputs": [],
   "source": []
  }
 ],
 "metadata": {
  "kernelspec": {
   "display_name": "Python 3 (ipykernel)",
   "language": "python",
   "name": "python3"
  },
  "language_info": {
   "codemirror_mode": {
    "name": "ipython",
    "version": 3
   },
   "file_extension": ".py",
   "mimetype": "text/x-python",
   "name": "python",
   "nbconvert_exporter": "python",
   "pygments_lexer": "ipython3",
   "version": "3.11.4"
  }
 },
 "nbformat": 4,
 "nbformat_minor": 5
}
